{
 "cells": [
  {
   "cell_type": "markdown",
   "id": "aggregate-beatles",
   "metadata": {},
   "source": [
    "# About this notebook\n",
    "\n",
    "This notebook documents a procedure to install FEniCS using Anaconda. Aside from the first step (installing Anaconda itself), all commands in this notebook can either be manually entered one at a time into a terminal window, or the notebook can be executed to perform the installation automatically.\n",
    "\n",
    "Note that this notebook is structured to be executable; Steps 2-## can be accomplished by running the commands in the code cells of this notebook. All terminal commands (i.e. non-Python) are preceded with an exclamation point (!). If you wish to type each command manually in the terminal, do not include the ! that precedes the commands. Also note that all conda commands include the `--yes` option to suppress the prompt to install packages. If you'd like to be prompted, remove the `--yes`.\n",
    "\n",
    "<p style=\"background-color:#FF8888;\">\n",
    "Note: running the code cells within this notebook has not been tested yet! You're probably better off typing each command individually into your terminal! I have commented out the commands in the code cells so you don't accidentally run them; note that you should not type `#!` in the terminal when running these commands manually.\n",
    "</p>\n",
    "\n",
    "## Requirements\n",
    "\n",
    "This procedure was tested on a 64-bit laptop with an Intel Core i3 processor running Ubuntu 20.04.2 LTS.\n",
    "\n",
    "\n",
    "## Last Updated\n",
    "\n",
    "This document last updated on 2021-05-20 01:06 CDT."
   ]
  },
  {
   "cell_type": "markdown",
   "id": "registered-little",
   "metadata": {},
   "source": [
    "# Step 1: install Anaconda\n",
    "\n",
    "To install Anaconda:\n",
    "\n",
    "1. Download the installer from [https://www.anaconda.com/products/individual#Downloads]. As of the time of this writing (2021-05-19), the current version is Python 3.8.\n",
    "2. Open a terminal window and `cd` to the location of the downloaded shell script.\n",
    "3. From the terminal, run the install script. (For me, this was achieved with the command:)\n",
    "\n",
    "<!--\n",
    "Anaconda uninstall notes\n",
    "\n",
    "Configuration directories:\n",
    ".conda\n",
    ".condarc\n",
    ".ipython\n",
    ".jupyter\n",
    "\n",
    "bashrc files:\n",
    "/etc/bash.bashrc\n",
    "/etc/.bashrc\n",
    "/home/connor/.bashrc\n",
    "-->"
   ]
  },
  {
   "cell_type": "code",
   "execution_count": null,
   "id": "incredible-progressive",
   "metadata": {},
   "outputs": [],
   "source": [
    "#! ./Anaconda3-2021.05-Linux-x86_64.sh"
   ]
  },
  {
   "cell_type": "markdown",
   "id": "ignored-thong",
   "metadata": {},
   "source": [
    "4. Accept the terms of the license agreement when prompted.\n",
    "5. Accept the default installation location (or choose another location if you must). For me, this was\n",
    "\n",
    "   ```\n",
    "   /home/connor/anaconda3\n",
    "   ```\n",
    "\n",
    "6. The installation proceeds. It may take a while.\n",
    "7. When prompted \"Do you wish the installer to initialize Anaconda3 by running conda init? [yes|no]\", choose yes. This will set up your terminal by prepending the Anaconda installation to your `PATH`, making the Anaconda Python interpreter the first Python interpreter found by the shell.\n",
    "\n",
    "## Verify Anaconda installation\n",
    "\n",
    "To verify that Anaconda installation succeeded, start a new terminal window. First you will notice that the currently-active conda environment has been prepended to the prompt, e.g.\n",
    "\n",
    "```\n",
    "connor@connor-Vostro-1540: ~/Downloads$\n",
    "```\n",
    "\n",
    "has been replaced by\n",
    "\n",
    "```\n",
    "(base) connor@connor-Vostro-1540: ~/Downloads$\n",
    "```\n",
    "\n",
    "The string `(base)` indicates that the conda environment `base` is currently active. To check that the Anaconda setup worked correctly, run the command"
   ]
  },
  {
   "cell_type": "code",
   "execution_count": null,
   "id": "finnish-merchant",
   "metadata": {},
   "outputs": [],
   "source": [
    "#! which python"
   ]
  },
  {
   "cell_type": "markdown",
   "id": "pharmaceutical-valuable",
   "metadata": {},
   "source": [
    "The terminal should display the path to the Python executable in the Anaconda environment, e.g.\n",
    "```\n",
    "/home/connor/anaconda3/bin/python\n",
    "```\n",
    "\n",
    "If you run"
   ]
  },
  {
   "cell_type": "code",
   "execution_count": null,
   "id": "minute-steel",
   "metadata": {},
   "outputs": [],
   "source": [
    "#! which -a python3"
   ]
  },
  {
   "cell_type": "markdown",
   "id": "intimate-confirmation",
   "metadata": {},
   "source": [
    "you will see a list of all installed Python versions, e.g.\n",
    "```\n",
    "/home/connor/anaconda3/bin/python3\n",
    "/usr/bin/python3\n",
    "/bin/python3\n",
    "```\n",
    "The Anaconda version is listed first, meaning that all calls to `python3` will be directed to the Python interpreter in your Anaconda installation."
   ]
  },
  {
   "cell_type": "markdown",
   "id": "robust-culture",
   "metadata": {},
   "source": [
    "# Step 2: set up `conda` environments\n",
    "\n",
    "In this section, we set up a new conda environment in which FEniCS will be installed. First, we will set up a conda environment called `fenicsproject`. I recommend using the Python version from the official Anaconda channels (currently 3.8 as of 2021-05-19), since I've had issues when using the Python 3.9 interpreter from the `conda-forge` channel. I also like to install packages from the official Anaconda channel when possible. Therefore, rather than use the `-c conda-forge` option (which seems to prompt all packages to be installed from conda-forge) when creating my environment (as suggested [here](https://fenicsproject.org/download/)), I first create the environment without installing FEniCS, configure my conda environment with `conda-forge` as my second-priority channel, and then install FEniCS in the last step. Stepwise, this looks like this:\n",
    "\n",
    "1. Create the conda environement named `fenicsproject` and install Python 3.8. From the terminal, run "
   ]
  },
  {
   "cell_type": "code",
   "execution_count": null,
   "id": "thrown-horror",
   "metadata": {},
   "outputs": [],
   "source": [
    "#! conda create -n fenicsproject --yes python=3.8.*"
   ]
  },
  {
   "cell_type": "markdown",
   "id": "established-algebra",
   "metadata": {},
   "source": [
    "2. Activate the fenicsproject environment:"
   ]
  },
  {
   "cell_type": "code",
   "execution_count": null,
   "id": "disturbed-incentive",
   "metadata": {},
   "outputs": [],
   "source": [
    "#! conda activate fenicsproject"
   ]
  },
  {
   "cell_type": "markdown",
   "id": "acoustic-trademark",
   "metadata": {},
   "source": [
    "3. Set `conda-forge` as an alternate package source:"
   ]
  },
  {
   "cell_type": "code",
   "execution_count": null,
   "id": "anonymous-broad",
   "metadata": {},
   "outputs": [],
   "source": [
    "#! conda config --append channels conda-forge"
   ]
  },
  {
   "cell_type": "markdown",
   "id": "virtual-dialogue",
   "metadata": {},
   "source": [
    "4. Install FEniCS:"
   ]
  },
  {
   "cell_type": "code",
   "execution_count": null,
   "id": "graduate-norwegian",
   "metadata": {},
   "outputs": [],
   "source": [
    "#! conda install --yes fenics"
   ]
  },
  {
   "cell_type": "markdown",
   "id": "incorporate-triangle",
   "metadata": {},
   "source": [
    "## Verify conda environments\n",
    "\n",
    "If we run"
   ]
  },
  {
   "cell_type": "code",
   "execution_count": null,
   "id": "czech-receipt",
   "metadata": {},
   "outputs": [],
   "source": [
    "#! conda list fenics\n",
    "#! conda list spyder"
   ]
  },
  {
   "cell_type": "markdown",
   "id": "cutting-forth",
   "metadata": {},
   "source": [
    "we see that the `fenics` package (and several associated packages) are installed in the `fenicsproject` environment, but Spyder is not. On the other hand, if we run the following:"
   ]
  },
  {
   "cell_type": "code",
   "execution_count": null,
   "id": "wound-purchase",
   "metadata": {},
   "outputs": [],
   "source": [
    "#! conda activate base\n",
    "#! conda list fenics\n",
    "#! conda list spyder"
   ]
  },
  {
   "cell_type": "markdown",
   "id": "anonymous-layer",
   "metadata": {},
   "source": [
    "we see that Spyder is installed in the base environment but FEniCS is not. I set up my installation like this in order to:\n",
    "\n",
    "1. Minimize the number of FEniCS and Spyder installations\n",
    "2. Separate the FEniCS and Spyder dependencies (whether or not they clash at all, I don't know)\n",
    "\n",
    "Finally, if we run"
   ]
  },
  {
   "cell_type": "code",
   "execution_count": null,
   "id": "activated-insulin",
   "metadata": {},
   "outputs": [],
   "source": [
    "#! which spyder"
   ]
  },
  {
   "cell_type": "markdown",
   "id": "renewable-happiness",
   "metadata": {},
   "source": [
    "from the base environment, we see that Spyder will be run from the Anaconda installation (and not from somewhere else on our system)."
   ]
  },
  {
   "cell_type": "markdown",
   "id": "acknowledged-genre",
   "metadata": {},
   "source": [
    "# Step 3: Spyder console interpreter\n",
    "\n",
    "If we try to run a FEniCS code from our current setup, we will get an error when we try to\n",
    "```python\n",
    "import fenics as fe\n",
    "```\n",
    "this is because the Spyder default is to open the console using the same Python interpreter in which Spyder is running. To run FEniCS codes, we must tell Spyder to open the console using the Python interpreter found in the \"fenicsproject\" environment. In order for this to succeed, we must have the \"spyder-kernels\" package installed in the \"fenicsproject\" environment. It's important to install the correct version of \"spyder-kernels\" to be compatible with our Spyder installation (Spyder seems to be picky about this, we'll get an error if we have the wrong version). Above, when we ran the command:"
   ]
  },
  {
   "cell_type": "code",
   "execution_count": null,
   "id": "endless-distance",
   "metadata": {},
   "outputs": [],
   "source": [
    "#! conda list spyder"
   ]
  },
  {
   "cell_type": "markdown",
   "id": "unable-hamburg",
   "metadata": {},
   "source": [
    "we saw that \"spyder-kernels\" version 1.10.2 was installed in the base environment. This is the version we need to install in the \"fenicsproject\" environment:"
   ]
  },
  {
   "cell_type": "code",
   "execution_count": null,
   "id": "silver-palace",
   "metadata": {},
   "outputs": [],
   "source": [
    "#! conda activate fenicsproject\n",
    "#! conda install --yes spyder-kernels=1.10.2"
   ]
  },
  {
   "cell_type": "markdown",
   "id": "funky-trick",
   "metadata": {},
   "source": [
    "To instruct Spyder to open consoles using the Python interpreter from the \"fenicsproject\" environment, launch Spyder:"
   ]
  },
  {
   "cell_type": "code",
   "execution_count": null,
   "id": "invalid-activity",
   "metadata": {},
   "outputs": [],
   "source": [
    "#! conda activate base\n",
    "#! spyder"
   ]
  },
  {
   "cell_type": "markdown",
   "id": "treated-applicant",
   "metadata": {},
   "source": [
    "In `Tools > Preferences > Python Interpreter > Python Interpreter`, check the radio button for \"Use the following Python interpreter:\". In the box below, select the Python interpreter in the \"fenicsproject\" environment, e.g.\n",
    "```\n",
    "/home/connor/anaconda3/envs/fenicsproject/bin/python\n",
    "```\n",
    "Click OK. In the status bar at the bottom of the Spyder window (if you're using Spyder 4.2.5 like I am), you'll see \"conda: fenicsproject (Python 3.8.X)\", which tells you that your consoles will now be running from the \"fenicsproject\" environment.\n",
    "\n",
    "At this point, you should be all set up to run FEniCS with Spyder.\n",
    "\n",
    "## (Optional) Enabling plotting in separate window\n",
    "\n",
    "If you prefer to see figures in a separate window rather than inline in the Spyder \"Plots\" pane, you will need to install the \"pyqt\" module in the \"fenicsproject\" environment:"
   ]
  },
  {
   "cell_type": "code",
   "execution_count": null,
   "id": "another-longitude",
   "metadata": {},
   "outputs": [],
   "source": [
    "#! conda activate fenicsproject\n",
    "#! conda install --yes pyqt"
   ]
  },
  {
   "cell_type": "markdown",
   "id": "ordinary-enforcement",
   "metadata": {},
   "source": [
    "To enable plotting in a separate window, go to `Tools > Preferences > IPython console > Graphics > Graphics backend` and choose `Qt5` for the backend."
   ]
  },
  {
   "cell_type": "markdown",
   "id": "scheduled-maker",
   "metadata": {},
   "source": [
    "# Step 4 (optional): Spyder desktop shortcut\n",
    "\n",
    "If you'd prefer not to boot Spyder from the terminal every time, you can create a desktop shortcut. The long form of this explanation can be found here: https://www.howtogeek.com/445303/how-to-create-desktop-shortcuts-on-ubuntu/. The short form is this:\n",
    "\n",
    "1. Create a text file named \"spyder.desktop\" in your Documents folder and enter the following (substituting the appropriate path to Spyder for your installation):\n",
    "   \n",
    "   ```\n",
    "   [Desktop Entry]\n",
    "   Type=Application\n",
    "   Name=Spyder\n",
    "   GenericName=Python IDE\n",
    "   Comment=Scientific Python development environment\n",
    "   Path=/home/connor/anaconda3/bin\n",
    "   Exec=/home/connor/anaconda3/bin/spyder\n",
    "   Icon=/home/connor/anaconda3/share/icons/spyder.png\n",
    "   Terminal=False\n",
    "   Categories=Development\n",
    "   Keywords=Python,dev\n",
    "   ```\n",
    "\n",
    "2. Copy the file to your desktop.\n",
    "3. Right-click on the file and select \"Allow Launching\". You should see the Spyder icon appear. Double-clicking should launch Spyder.\n",
    "4. To allow the file to be launched from the GNOME launcher, you should also copy the file to `~/.local/share/applications`:"
   ]
  },
  {
   "cell_type": "code",
   "execution_count": null,
   "id": "fitted-doctor",
   "metadata": {},
   "outputs": [],
   "source": [
    "#! cp ~/Documents/spyder.desktop ~/.local/share/applications"
   ]
  }
 ],
 "metadata": {
  "kernelspec": {
   "display_name": "Python 3",
   "language": "python",
   "name": "python3"
  },
  "language_info": {
   "codemirror_mode": {
    "name": "ipython",
    "version": 3
   },
   "file_extension": ".py",
   "mimetype": "text/x-python",
   "name": "python",
   "nbconvert_exporter": "python",
   "pygments_lexer": "ipython3",
   "version": "3.7.3"
  }
 },
 "nbformat": 4,
 "nbformat_minor": 5
}
