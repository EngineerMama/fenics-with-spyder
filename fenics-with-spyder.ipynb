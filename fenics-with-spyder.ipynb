{
 "cells": [
  {
   "cell_type": "markdown",
   "id": "c6eaaa85",
   "metadata": {},
   "source": [
    "# About this notebook\n",
    "\n",
    "This notebook documents a procedure to install FEniCS using Anaconda. Aside from the first step (installing Anaconda itself), all commands in this notebook can either be manually entered one at a time into a terminal window, or the notebook can be executed to perform the installation automatically."
   ]
  },
  {
   "cell_type": "markdown",
   "id": "19563f40",
   "metadata": {},
   "source": []
  }
 ],
 "metadata": {
  "kernelspec": {
   "display_name": "Python 3",
   "language": "python",
   "name": "python3"
  },
  "language_info": {
   "codemirror_mode": {
    "name": "ipython",
    "version": 3
   },
   "file_extension": ".py",
   "mimetype": "text/x-python",
   "name": "python",
   "nbconvert_exporter": "python",
   "pygments_lexer": "ipython3",
   "version": "3.8.8"
  }
 },
 "nbformat": 4,
 "nbformat_minor": 5
}
